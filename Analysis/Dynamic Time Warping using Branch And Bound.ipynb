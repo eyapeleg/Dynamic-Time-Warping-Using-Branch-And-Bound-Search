{
 "cells": [
  {
   "cell_type": "code",
   "execution_count": 15,
   "metadata": {
    "collapsed": true
   },
   "outputs": [],
   "source": [
    "import pandas as pd\n",
    "%matplotlib inline\n",
    "pd.set_option('display.max_rows', 500)"
   ]
  },
  {
   "cell_type": "code",
   "execution_count": 16,
   "metadata": {
    "collapsed": true
   },
   "outputs": [],
   "source": [
    "dynamic = \"dynamic\"\n",
    "bnb = \"bnb\"\n",
    "mean = \"mean\"\n",
    "std = \"std\""
   ]
  },
  {
   "cell_type": "code",
   "execution_count": 17,
   "metadata": {
    "collapsed": false
   },
   "outputs": [],
   "source": [
    "results = {}\n",
    "for i in range(4,21):\n",
    "    results[i] = pd.read_csv(filepath_or_buffer='..\\src\\\\output\\\\'+ str(i) + '.csv')"
   ]
  },
  {
   "cell_type": "code",
   "execution_count": 55,
   "metadata": {
    "collapsed": false
   },
   "outputs": [
    {
     "data": {
      "text/html": [
       "<div>\n",
       "<table border=\"1\" class=\"dataframe\">\n",
       "  <thead>\n",
       "    <tr style=\"text-align: right;\">\n",
       "      <th></th>\n",
       "      <th>bnb</th>\n",
       "      <th>dynamic</th>\n",
       "    </tr>\n",
       "  </thead>\n",
       "  <tbody>\n",
       "    <tr>\n",
       "      <th>4</th>\n",
       "      <td>0.000000e+00</td>\n",
       "      <td>0.000000</td>\n",
       "    </tr>\n",
       "    <tr>\n",
       "      <th>5</th>\n",
       "      <td>0.000000e+00</td>\n",
       "      <td>0.000000</td>\n",
       "    </tr>\n",
       "    <tr>\n",
       "      <th>6</th>\n",
       "      <td>1.000600e+05</td>\n",
       "      <td>0.000000</td>\n",
       "    </tr>\n",
       "    <tr>\n",
       "      <th>7</th>\n",
       "      <td>1.100500e+06</td>\n",
       "      <td>600470.000000</td>\n",
       "    </tr>\n",
       "    <tr>\n",
       "      <th>8</th>\n",
       "      <td>7.004600e+05</td>\n",
       "      <td>500340.000000</td>\n",
       "    </tr>\n",
       "    <tr>\n",
       "      <th>9</th>\n",
       "      <td>1.600820e+06</td>\n",
       "      <td>1300980.000000</td>\n",
       "    </tr>\n",
       "    <tr>\n",
       "      <th>10</th>\n",
       "      <td>9.770200e+06</td>\n",
       "      <td>800570.000000</td>\n",
       "    </tr>\n",
       "    <tr>\n",
       "      <th>11</th>\n",
       "      <td>1.180796e+07</td>\n",
       "      <td>4302680.000000</td>\n",
       "    </tr>\n",
       "    <tr>\n",
       "      <th>12</th>\n",
       "      <td>1.450946e+07</td>\n",
       "      <td>1500890.000000</td>\n",
       "    </tr>\n",
       "    <tr>\n",
       "      <th>13</th>\n",
       "      <td>1.150786e+07</td>\n",
       "      <td>1701080.000000</td>\n",
       "    </tr>\n",
       "    <tr>\n",
       "      <th>14</th>\n",
       "      <td>1.300868e+07</td>\n",
       "      <td>1400590.000000</td>\n",
       "    </tr>\n",
       "    <tr>\n",
       "      <th>15</th>\n",
       "      <td>8.005178e+06</td>\n",
       "      <td>2556822.222222</td>\n",
       "    </tr>\n",
       "    <tr>\n",
       "      <th>16</th>\n",
       "      <td>3.990220e+08</td>\n",
       "      <td>2026740.000000</td>\n",
       "    </tr>\n",
       "    <tr>\n",
       "      <th>17</th>\n",
       "      <td>1.475384e+08</td>\n",
       "      <td>1712320.000000</td>\n",
       "    </tr>\n",
       "    <tr>\n",
       "      <th>18</th>\n",
       "      <td>5.463657e+07</td>\n",
       "      <td>2000990.000000</td>\n",
       "    </tr>\n",
       "    <tr>\n",
       "      <th>19</th>\n",
       "      <td>1.509220e+10</td>\n",
       "      <td>5235280.000000</td>\n",
       "    </tr>\n",
       "    <tr>\n",
       "      <th>20</th>\n",
       "      <td>1.727727e+11</td>\n",
       "      <td>9354880.000000</td>\n",
       "    </tr>\n",
       "  </tbody>\n",
       "</table>\n",
       "</div>"
      ],
      "text/plain": [
       "             bnb         dynamic\n",
       "4   0.000000e+00        0.000000\n",
       "5   0.000000e+00        0.000000\n",
       "6   1.000600e+05        0.000000\n",
       "7   1.100500e+06   600470.000000\n",
       "8   7.004600e+05   500340.000000\n",
       "9   1.600820e+06  1300980.000000\n",
       "10  9.770200e+06   800570.000000\n",
       "11  1.180796e+07  4302680.000000\n",
       "12  1.450946e+07  1500890.000000\n",
       "13  1.150786e+07  1701080.000000\n",
       "14  1.300868e+07  1400590.000000\n",
       "15  8.005178e+06  2556822.222222\n",
       "16  3.990220e+08  2026740.000000\n",
       "17  1.475384e+08  1712320.000000\n",
       "18  5.463657e+07  2000990.000000\n",
       "19  1.509220e+10  5235280.000000\n",
       "20  1.727727e+11  9354880.000000"
      ]
     },
     "execution_count": 55,
     "metadata": {},
     "output_type": "execute_result"
    }
   ],
   "source": [
    "results_std = {}\n",
    "results_mean = {}\n",
    "\n",
    "results_std[dynamic] = {}\n",
    "results_std[bnb] = {}\n",
    "\n",
    "results_mean[dynamic] = {}\n",
    "results_mean[bnb] = {}\n",
    "\n",
    "for i in results:  \n",
    "    \n",
    "    results_mean[dynamic][i] = results[i][dynamic].mean()\n",
    "    results_std[dynamic][i] = results[i][dynamic].std()\n",
    "    \n",
    "    results_mean[bnb][i] = results[i][bnb].mean()\n",
    "    results_std[bnb][i] = results[i][bnb].std()\n",
    "    \n",
    "results_std = pd.DataFrame(results_std)\n",
    "results_mean = pd.DataFrame(results_mean)\n",
    "results_mean"
   ]
  },
  {
   "cell_type": "markdown",
   "metadata": {},
   "source": [
    "### Mean Execution Time Analysis"
   ]
  },
  {
   "cell_type": "code",
   "execution_count": 19,
   "metadata": {
    "collapsed": false
   },
   "outputs": [
    {
     "data": {
      "text/plain": [
       "<matplotlib.text.Text at 0xd04b828>"
      ]
     },
     "execution_count": 19,
     "metadata": {},
     "output_type": "execute_result"
    },
    {
     "data": {
      "image/png": "[encoded data removed]",
      "text/plain": [
       "<matplotlib.figure.Figure at 0x1d6d40b8>"
      ]
     },
     "metadata": {},
     "output_type": "display_data"
    }
   ],
   "source": [
    "import matplotlib.pyplot as plt\n",
    "plt.ylim(0,0.05)\n",
    "plt.plot(results_mean[bnb][:14]/1000000000,label=\"Branch And Bound\")\n",
    "plt.plot(results_mean[dynamic][:14]/1000000000,label=\"Dynamic Programming\")\n",
    "plt.legend(loc='upper left')\n",
    "plt.xlabel(\"Time Series Length\")\n",
    "plt.ylabel(\"Mean Execution (Seconds) Time\")"
   ]
  },
  {
   "cell_type": "markdown",
   "metadata": {},
   "source": [
    "### Execution Time Stdev Analysis  "
   ]
  },
  {
   "cell_type": "code",
   "execution_count": 20,
   "metadata": {
    "collapsed": false
   },
   "outputs": [
    {
     "data": {
      "text/plain": [
       "<matplotlib.text.Text at 0xcf8b9e8>"
      ]
     },
     "execution_count": 20,
     "metadata": {},
     "output_type": "execute_result"
    },
    {
     "data": {
      "image/png": "[encoded data removed]",
      "text/plain": [
       "<matplotlib.figure.Figure at 0xc58fcf8>"
      ]
     },
     "metadata": {},
     "output_type": "display_data"
    }
   ],
   "source": [
    "import matplotlib.pyplot as plt\n",
    "#plt.ylim(0,0.05)\n",
    "plt.plot(results_std[bnb][:14]/1000000000,label=\"Branch And Bound\")\n",
    "plt.plot(results_std[dynamic][:14]/1000000000,label=\"Dynamic Programming\")\n",
    "plt.legend(loc='upper left')\n",
    "plt.xlabel(\"Time Series Length\")\n",
    "plt.ylabel(\"Execution Time (Seconds) Stdev\")"
   ]
  },
  {
   "cell_type": "markdown",
   "metadata": {},
   "source": [
    "### Mean Analysis"
   ]
  },
  {
   "cell_type": "markdown",
   "metadata": {},
   "source": [
    "#### Levenes test"
   ]
  },
  {
   "cell_type": "code",
   "execution_count": 58,
   "metadata": {
    "collapsed": false
   },
   "outputs": [
    {
     "data": {
      "text/plain": [
       "LeveneResult(statistic=1.0981427347146711, pvalue=0.30252486681634133)"
      ]
     },
     "execution_count": 58,
     "metadata": {},
     "output_type": "execute_result"
    }
   ],
   "source": [
    "import scipy.stats\n",
    "scipy.stats.levene(results_std[bnb],results_std[dynamic])"
   ]
  },
  {
   "cell_type": "markdown",
   "metadata": {},
   "source": [
    "#### Paired T-Test"
   ]
  },
  {
   "cell_type": "code",
   "execution_count": 56,
   "metadata": {
    "collapsed": false
   },
   "outputs": [
    {
     "name": "stdout",
     "output_type": "stream",
     "text": [
      "results_mean[bnb] = 6009264.81481\n",
      "results_mean[dynamic] = 1222035.18519\n",
      "Ttest_relResult(statistic=3.2187453343448613, pvalue=0.0081772999362577214)\n"
     ]
    }
   ],
   "source": [
    "from scipy import stats\n",
    "max_len = 12\n",
    "print(\"results_mean[bnb] = \" + str(results_mean[bnb][:max_len].mean()))\n",
    "print(\"results_mean[dynamic] = \" + str(results_mean[dynamic][:max_len].mean()))\n",
    "print(stats.ttest_rel(results_mean[bnb][:max_len], results_mean[dynamic][:max_len]))"
   ]
  },
  {
   "cell_type": "markdown",
   "metadata": {},
   "source": [
    "#### Wilcoxon Test"
   ]
  },
  {
   "cell_type": "code",
   "execution_count": 36,
   "metadata": {
    "collapsed": false
   },
   "outputs": [
    {
     "data": {
      "text/plain": [
       "WilcoxonResult(statistic=0.0, pvalue=0.00065495834338569539)"
      ]
     },
     "execution_count": 36,
     "metadata": {},
     "output_type": "execute_result"
    }
   ],
   "source": [
    "scipy.stats.wilcoxon(results_mean[bnb],results_mean[dynamic])"
   ]
  }
 ],
 "metadata": {
  "kernelspec": {
   "display_name": "Python 2",
   "language": "python",
   "name": "python2"
  },
  "language_info": {
   "codemirror_mode": {
    "name": "ipython",
    "version": 2
   },
   "file_extension": ".py",
   "mimetype": "text/x-python",
   "name": "python",
   "nbconvert_exporter": "python",
   "pygments_lexer": "ipython2",
   "version": "2.7.11"
  }
 },
 "nbformat": 4,
 "nbformat_minor": 0
}
